{
 "cells": [
  {
   "cell_type": "code",
   "execution_count": null,
   "metadata": {},
   "outputs": [],
   "source": [
    "import streamlit as st \n",
    "st.title('Mychatbot UI')"
   ]
  },
  {
   "cell_type": "code",
   "execution_count": null,
   "metadata": {},
   "outputs": [],
   "source": [
    "#In summary, this code creates a simple web form that allows the user \n",
    "#to enter some text and displays a greeting message that includes the \n",
    "#entered text. The code uses the Streamlit library to create the form and \n",
    "#the output text.\n",
    "container= st.container()\n",
    "\n",
    "with container:\n",
    "    with st.form(key='my_form',clear_on_submit=True):\n",
    "        user_input= st.text_area(\"You:\",key='input',height=100)\n",
    "        submit_button= st.form_submit_button(label='Send')\n",
    "\n",
    "    if user_input and submit_button:\n",
    "        st.write(f\"Hello {user_input}\")\n",
    "\n",
    "#type 'Shubro' in webpage. output: Hello Shubro"
   ]
  },
  {
   "cell_type": "code",
   "execution_count": null,
   "metadata": {},
   "outputs": [],
   "source": [
    "import openai\n",
    "openai.api_key= open('key.text', 'r').read().strip('\\n')"
   ]
  },
  {
   "cell_type": "code",
   "execution_count": null,
   "metadata": {},
   "outputs": [],
   "source": [
    "def genearate_response(prompt):\n",
    "    response= openai.ChatCompletion.create(\n",
    "  model=\"gpt-3.5-turbo\",\n",
    "  messages=[\n",
    "        {\"role\": \"system\", \"content\": \"You are a helpful assistant.\"},\n",
    "        {\"role\": \"user\", \"content\": prompt},\n",
    "\n",
    "    ]\n",
    ")\n",
    "    return response['choices'][0]['message']['content']\n",
    "\n",
    "with container:\n",
    "    with st.form(key='my_form',clear_on_submit=True):\n",
    "        user_input= st.text_area(\"You:\",key='input',height=100)\n",
    "        submit_button= st.form_submit_button(label='Send')\n",
    "\n",
    "    if user_input and submit_button:\n",
    "        output = genearate_response(user_input)##\n",
    "        st.write(output)##\n",
    "\n",
    "#write in webpage:Hello. Write a poem...My name is Shubro. What is my nanme?"
   ]
  },
  {
   "cell_type": "code",
   "execution_count": null,
   "metadata": {},
   "outputs": [],
   "source": [
    "#giving memory into application\n",
    "if 'messages' not in st.session_state:##\n",
    "    st.session_state['messages'] =[{\"role\": \"system\", \"content\": \"You are a helpful assistant.\"}]\n",
    "\n",
    "def genearate_response(prompt):\n",
    "    st.session_state['messages'].append({\"role\": \"user\", \"content\": prompt})##\n",
    "    completion= openai.ChatCompletion.create(##\n",
    "  model=\"gpt-3.5-turbo\",\n",
    "  messages=st.session_state['messages']##\n",
    ")\n",
    "    response= completion['choices'][0]['message']['content']##\n",
    "    st.session_state['messages'].append({\"role\": \"assistant\", \"content\": response})##\n",
    "    return response##\n",
    "\n",
    "#Write in webpage: My name is Shubro. What is my name?"
   ]
  },
  {
   "cell_type": "code",
   "execution_count": null,
   "metadata": {},
   "outputs": [],
   "source": [
    "#showing interactions above our text box\n",
    "from streamlit_chat import message\n",
    "response_container= st.container()\n",
    "\n",
    "if 'generated' not in st.session_state:\n",
    "    st.session_state['generated'] = []\n",
    "if 'past' not in st.session_state:\n",
    "    st.session_state['past'] = []\n",
    "\n",
    "\n",
    "def genearate_response(prompt):\n",
    "    st.session_state['messages'].append({\"role\": \"user\", \"content\": prompt})\n",
    "    st.session_state['past'].append(prompt)##\n",
    "\n",
    "    completion= openai.ChatCompletion.create(\n",
    "  model=\"gpt-3.5-turbo\",\n",
    "  messages=st.session_state['messages']\n",
    ")\n",
    "    response= completion['choices'][0]['message']['content']\n",
    "    st.session_state['messages'].append({\"role\": \"assistant\", \"content\": response})\n",
    "    st.session_state['generated'].append(response)##\n",
    "    return response\n",
    "\n",
    "\n",
    "#at the very end\n",
    "if st.session_state['generated']:##\n",
    "    with response_container:##\n",
    "        for i in range(0, len(st.session_state['generated'])):##\n",
    "            message(st.session_state['past'][i],is_user=True,key=str(i)+'_user')##\n",
    "            message(st.session_state['generated'][i],key=str(i))##"
   ]
  }
 ],
 "metadata": {
  "language_info": {
   "name": "python"
  },
  "orig_nbformat": 4
 },
 "nbformat": 4,
 "nbformat_minor": 2
}
